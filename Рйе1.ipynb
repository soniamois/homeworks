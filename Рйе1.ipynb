{
 "cells": [
  {
   "cell_type": "code",
   "execution_count": null,
   "metadata": {},
   "outputs": [],
   "source": []
  },
  {
   "cell_type": "code",
   "execution_count": 2,
   "metadata": {},
   "outputs": [
    {
     "name": "stdout",
     "output_type": "stream",
     "text": [
      "Введите букву русского алфавита\n",
      "н\n"
     ]
    },
    {
     "data": {
      "text/plain": [
       "'Это согласная!'"
      ]
     },
     "execution_count": 2,
     "metadata": {},
     "output_type": "execute_result"
    }
   ],
   "source": [
    "def sounds(sound):\n",
    "    vowels = [\"а\", \"о\", \"и\", \"е\", \"у\", \"ы\"]\n",
    "    if len(sound) != 1:\n",
    "        print(\"Введены неверные данные\")\n",
    "    else:\n",
    "        if sound in vowels:\n",
    "            return \"Это гласная!\"\n",
    "        else:\n",
    "            return \"Это согласная!\"\n",
    "\n",
    "# вызов функции        \n",
    "sounds(input(\"Введите букву русского алфавита\\n\"))"
   ]
  },
  {
   "cell_type": "code",
   "execution_count": 3,
   "metadata": {},
   "outputs": [
    {
     "name": "stdout",
     "output_type": "stream",
     "text": [
      "Это дом\n",
      "This is a cat\n",
      "Это cat\n"
     ]
    }
   ],
   "source": [
    "def this_is(word, lang = \"ru\"):\n",
    "    if lang == \"en\":\n",
    "        return \"This is a \" + word\n",
    "    if lang == \"ru\":\n",
    "        return \"Это \" + word\n",
    "    \n",
    "print(this_is(\"дом\"))\n",
    "print(this_is(\"cat\", \"en\"))\n",
    "print(this_is(\"cat\"))"
   ]
  },
  {
   "cell_type": "code",
   "execution_count": 4,
   "metadata": {},
   "outputs": [],
   "source": [
    "def my_function():\n",
    "    names = [\"Саня\", \"Лена\", \"Петя\", \"Иаков\", \"Иисус\", \"Адольф\"]\n",
    "    if len(names) != 1:\n",
    "        print(\"Введены неверные данные\")\n",
    "    else:\n",
    "        if my_function in names:\n",
    "            return \"Это гласная!\"\n",
    "        else:\n",
    "            return \"Это согласная!\"\n",
    "\n",
    "        "
   ]
  },
  {
   "cell_type": "code",
   "execution_count": 5,
   "metadata": {},
   "outputs": [
    {
     "name": "stdout",
     "output_type": "stream",
     "text": [
      "{'Саня': '7916353782', 'Леха': '827827827', 'Иисус': '467829486'}\n"
     ]
    }
   ],
   "source": [
    "names = {\"Саня\":\"7916353782\", \"Леха\":\"827827827\", \"Иисус\":\"467829486\"}\n",
    "print(names)\n",
    "\n"
   ]
  },
  {
   "cell_type": "code",
   "execution_count": 6,
   "metadata": {},
   "outputs": [
    {
     "ename": "SyntaxError",
     "evalue": "invalid syntax (<ipython-input-6-089ba17f9664>, line 3)",
     "output_type": "error",
     "traceback": [
      "\u001b[1;36m  File \u001b[1;32m\"<ipython-input-6-089ba17f9664>\"\u001b[1;36m, line \u001b[1;32m3\u001b[0m\n\u001b[1;33m    def my_function(names)\u001b[0m\n\u001b[1;37m                          ^\u001b[0m\n\u001b[1;31mSyntaxError\u001b[0m\u001b[1;31m:\u001b[0m invalid syntax\n"
     ]
    }
   ],
   "source": [
    "names = {\"Саня\":\"7916353782\", \"Леха\":\"827827827\", \"Иисус\":\"467829486\"}\n",
    "\n",
    "def my_function(names)\n",
    "imena = [\"Саня\", \"Леха\", \"Иисус\"]\n",
    "    if len(imena) != 1:\n",
    "        print(\"Введены неверные данные\")\n",
    "   \n",
    "\n",
    "# вызов функции        \n",
    "sounds(input(\"Введите имя\"))"
   ]
  },
  {
   "cell_type": "code",
   "execution_count": 7,
   "metadata": {},
   "outputs": [
    {
     "ename": "SyntaxError",
     "evalue": "invalid syntax (<ipython-input-7-50155e33b73a>, line 3)",
     "output_type": "error",
     "traceback": [
      "\u001b[1;36m  File \u001b[1;32m\"<ipython-input-7-50155e33b73a>\"\u001b[1;36m, line \u001b[1;32m3\u001b[0m\n\u001b[1;33m    def my_function(names)\u001b[0m\n\u001b[1;37m                          ^\u001b[0m\n\u001b[1;31mSyntaxError\u001b[0m\u001b[1;31m:\u001b[0m invalid syntax\n"
     ]
    }
   ],
   "source": [
    "names = {\"Саня\":\"7916353782\", \"Леха\":\"827827827\", \"Иисус\":\"467829486\"}\n",
    "\n",
    "def my_function(names)\n",
    "names(input(\"Введите имя\"))"
   ]
  },
  {
   "cell_type": "code",
   "execution_count": 8,
   "metadata": {},
   "outputs": [
    {
     "ename": "SyntaxError",
     "evalue": "invalid syntax (<ipython-input-8-cb8cc77b1dc0>, line 3)",
     "output_type": "error",
     "traceback": [
      "\u001b[1;36m  File \u001b[1;32m\"<ipython-input-8-cb8cc77b1dc0>\"\u001b[1;36m, line \u001b[1;32m3\u001b[0m\n\u001b[1;33m    def my_function(names)\u001b[0m\n\u001b[1;37m                          ^\u001b[0m\n\u001b[1;31mSyntaxError\u001b[0m\u001b[1;31m:\u001b[0m invalid syntax\n"
     ]
    }
   ],
   "source": [
    "names = {\"Саня\":\"7916353782\", \"Леха\":\"827827827\", \"Иисус\":\"467829486\"}\n",
    "\n",
    "def my_function(names)\n",
    "input(\"Введите имя\"))"
   ]
  },
  {
   "cell_type": "code",
   "execution_count": 9,
   "metadata": {},
   "outputs": [
    {
     "ename": "SyntaxError",
     "evalue": "invalid syntax (<ipython-input-9-01f6f9975764>, line 3)",
     "output_type": "error",
     "traceback": [
      "\u001b[1;36m  File \u001b[1;32m\"<ipython-input-9-01f6f9975764>\"\u001b[1;36m, line \u001b[1;32m3\u001b[0m\n\u001b[1;33m    input(\"Введите имя\"))\u001b[0m\n\u001b[1;37m                        ^\u001b[0m\n\u001b[1;31mSyntaxError\u001b[0m\u001b[1;31m:\u001b[0m invalid syntax\n"
     ]
    }
   ],
   "source": [
    "names = {\"Саня\":\"7916353782\", \"Леха\":\"827827827\", \"Иисус\":\"467829486\"}\n",
    "\n",
    "input(\"Введите имя\"))"
   ]
  },
  {
   "cell_type": "code",
   "execution_count": 10,
   "metadata": {},
   "outputs": [
    {
     "ename": "IndentationError",
     "evalue": "expected an indented block (<ipython-input-10-8e36440ba209>, line 2)",
     "output_type": "error",
     "traceback": [
      "\u001b[1;36m  File \u001b[1;32m\"<ipython-input-10-8e36440ba209>\"\u001b[1;36m, line \u001b[1;32m2\u001b[0m\n\u001b[1;33m    names = {\"Саня\":\"7916353782\", \"Леха\":\"827827827\", \"Иисус\":\"467829486\"}\u001b[0m\n\u001b[1;37m        ^\u001b[0m\n\u001b[1;31mIndentationError\u001b[0m\u001b[1;31m:\u001b[0m expected an indented block\n"
     ]
    }
   ],
   "source": [
    "def imena(imena):\n",
    "names = {\"Саня\":\"7916353782\", \"Леха\":\"827827827\", \"Иисус\":\"467829486\"}\n",
    "if len(imena) != 1:\n",
    "        print(\"Введены неверные данные\")\n",
    "        else:\n",
    "        if imena in names:\n",
    "            return \"номер есть в словаре\"\n",
    "        else:\n",
    "            return \"номера нет в словаре\"\n",
    "\n"
   ]
  },
  {
   "cell_type": "code",
   "execution_count": 15,
   "metadata": {},
   "outputs": [
    {
     "ename": "SyntaxError",
     "evalue": "invalid syntax (<ipython-input-15-fb06cc8d3fa9>, line 8)",
     "output_type": "error",
     "traceback": [
      "\u001b[1;36m  File \u001b[1;32m\"<ipython-input-15-fb06cc8d3fa9>\"\u001b[1;36m, line \u001b[1;32m8\u001b[0m\n\u001b[1;33m    else:\u001b[0m\n\u001b[1;37m       ^\u001b[0m\n\u001b[1;31mSyntaxError\u001b[0m\u001b[1;31m:\u001b[0m invalid syntax\n"
     ]
    }
   ],
   "source": [
    "\n",
    "names = {\"Саня\":\"7916353782\", \"Леха\":\"827827827\", \"Иисус\":\"467829486\"}\n",
    "\n",
    "imena= input(\"Введите имя\\n\"))\n",
    "\n",
    "if len(imena) != 1:\n",
    "        print(\"Введены неверные данные\")\n",
    "        else:\n",
    "        if imena in names:\n",
    "            return \"номер есть в словаре\"\n",
    "        else:\n",
    "            return \"номера нет в словаре\"\n"
   ]
  },
  {
   "cell_type": "code",
   "execution_count": null,
   "metadata": {},
   "outputs": [],
   "source": [
    "def my_function(function):\n",
    "    names = {\"Саня\":\"7916353782\", \"Леха\":\"827827827\", \"Иисус\":\"467829486\"}\n",
    "\n",
    "    if function in names:\n",
    "        print(\"Такой номер есть\")\n",
    "        print(names [function])\n",
    "    else:\n",
    "        print (\"Такого имени нет, но мы его добавим\")\n",
    "        nomer = input(\"Введите номер \")\n",
    "        names[function]= nomer\n",
    "        print (names)\n",
    " \n",
    "my_function(input(\"Введите имя\\n\"))"
   ]
  },
  {
   "cell_type": "code",
   "execution_count": null,
   "metadata": {},
   "outputs": [],
   "source": []
  }
 ],
 "metadata": {
  "kernelspec": {
   "display_name": "Python 3",
   "language": "python",
   "name": "python3"
  },
  "language_info": {
   "codemirror_mode": {
    "name": "ipython",
    "version": 3
   },
   "file_extension": ".py",
   "mimetype": "text/x-python",
   "name": "python",
   "nbconvert_exporter": "python",
   "pygments_lexer": "ipython3",
   "version": "3.7.0"
  }
 },
 "nbformat": 4,
 "nbformat_minor": 2
}
